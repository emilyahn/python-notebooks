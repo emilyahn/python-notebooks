{
 "cells": [
  {
   "cell_type": "markdown",
   "metadata": {},
   "source": [
    "# Naive Bayes Classification\n",
    "\n",
    "This notebook runs through a worked example of the naive Bayes classifier.\n",
    "\n",
    "## Load Data\n",
    "\n",
    "The task is name-gender prediction given a set of labeled names."
   ]
  },
  {
   "cell_type": "code",
   "execution_count": null,
   "metadata": {
    "collapsed": false
   },
   "outputs": [],
   "source": [
    "import random\n",
    "# data is name,gender,freq\n",
    "data = [line.strip().split(',') for line in open('names.txt').readlines()[1:]] \n",
    "# remove infrequent names\n",
    "data = [line for line in data if int(line[2])>=50]\n",
    "random.shuffle(data)\n",
    "names = [line[0].lower() for line in data]\n",
    "genders = [line[1] for line in data]\n",
    "\n",
    "print 'Loaded', len(data), 'names'\n",
    "print 'Some of the names'\n",
    "print names[:20]\n",
    "print genders[:20]"
   ]
  },
  {
   "cell_type": "markdown",
   "metadata": {},
   "source": [
    "## Design Features\n",
    "\n",
    "Convert each name to a set of features that are true for that name."
   ]
  },
  {
   "cell_type": "code",
   "execution_count": null,
   "metadata": {
    "collapsed": true
   },
   "outputs": [],
   "source": [
    "def name2feats(name):\n",
    "    feats = set()\n",
    "    if name[-1] in 'aeiou':\n",
    "        feats.add('ends-vowel')\n",
    "    if name[-1] == 'n':\n",
    "        feats.add('ends-n')\n",
    "    if name == name[::-1]:\n",
    "        feats.add('palindrome')\n",
    "    if name[-1] == 'a':\n",
    "        feats.add('ends-a')\n",
    "    if name[-1] == 'o':\n",
    "        feats.add('ends-o')\n",
    "    if name[0] in 'aeiou':\n",
    "        feats.add('starts-vowel')\n",
    "    return feats\n",
    "        \n",
    "featurized_names = map(name2feats, names)\n",
    "\n",
    "splitpoint = int(.8*len(genders))\n",
    "train_names, test_names = names[:splitpoint], names[splitpoint:]\n",
    "train_fnames, test_fnames = featurized_names[:splitpoint], featurized_names[splitpoint:]\n",
    "train_genders, test_genders = genders[:splitpoint], genders[splitpoint:]"
   ]
  },
  {
   "cell_type": "markdown",
   "metadata": {},
   "source": [
    "## Training: Estimate Probabilities \n",
    "\n",
    "1. For each feature, estimate P(feature|gender)\n",
    "\n",
    "2. For each gender, estimate P(gender)\n",
    "\n",
    "from training data"
   ]
  },
  {
   "cell_type": "code",
   "execution_count": null,
   "metadata": {
    "collapsed": false
   },
   "outputs": [],
   "source": [
    "from collections import defaultdict\n",
    "prob_feat_given_gender = defaultdict(lambda : defaultdict(float)) # nested dict\n",
    "prob_gender = defaultdict(float)\n",
    "\n",
    "for featurized_name, gender in zip(train_fnames, train_genders):\n",
    "    for feat in featurized_name:\n",
    "        prob_feat_given_gender[gender][feat] +=1\n",
    "    prob_gender[gender] +=1\n",
    "   \n",
    "# normalize counts to get MLE probabilities\n",
    "for gender in prob_feat_given_gender:\n",
    "    total = sum(prob_feat_given_gender[gender].values())\n",
    "    for feat in prob_feat_given_gender[gender]:\n",
    "        prob_feat_given_gender[gender][feat]/=total\n",
    "    \n",
    "total = sum(prob_gender.values())\n",
    "for gender in prob_gender:\n",
    "    prob_gender[gender]/=total\n",
    "   \n",
    "# display probabilities\n",
    "for gender in prob_feat_given_gender:\n",
    "    print 'P({0}) = {1}'.format(gender, prob_gender[gender])\n",
    "    for feat in prob_feat_given_gender[gender]:\n",
    "        print 'P({0} given {1}) = {2}'.format(feat, \n",
    "                                              gender, \n",
    "                                              prob_feat_given_gender[gender][feat])\n"
   ]
  },
  {
   "cell_type": "markdown",
   "metadata": {},
   "source": [
    "## Testing or Prediction\n",
    "\n",
    "Given a name, compute \n",
    "\n",
    "1. P(name|gender) for each gender by multiplying P(feat|gender) for each feat in name\n",
    "2. P(gender|name) using Bayes Rule\n",
    "3. Pick gender that gives larger P(gender|name)"
   ]
  },
  {
   "cell_type": "code",
   "execution_count": null,
   "metadata": {
    "collapsed": false
   },
   "outputs": [],
   "source": [
    "def predict(featurized_name):\n",
    "    prob_gender_given_name = {}\n",
    "    for gender in prob_gender:\n",
    "        # 1. P(name|gender)\n",
    "        p = 1.\n",
    "        for feat in featurized_name:\n",
    "             p *= prob_feat_given_gender[gender][feat]\n",
    "        # 2. value proportional to P(gender|name) (prediction trick in slide)\n",
    "        prob_gender_given_name[gender] = p*prob_gender[gender]\n",
    "    return max(prob_gender_given_name.items(), key=lambda x:x[1])[0]\n",
    "\n",
    "for name, featurized_name, gender in zip(test_names[:50], test_fnames, test_genders):\n",
    "    print name, 'predicted', predict(featurized_name), 'actually', gender \n"
   ]
  },
  {
   "cell_type": "code",
   "execution_count": null,
   "metadata": {
    "collapsed": true
   },
   "outputs": [],
   "source": []
  }
 ],
 "metadata": {
  "kernelspec": {
   "display_name": "Python 2",
   "language": "python",
   "name": "python2"
  },
  "language_info": {
   "codemirror_mode": {
    "name": "ipython",
    "version": 2
   },
   "file_extension": ".py",
   "mimetype": "text/x-python",
   "name": "python",
   "nbconvert_exporter": "python",
   "pygments_lexer": "ipython2",
   "version": "2.7.10"
  }
 },
 "nbformat": 4,
 "nbformat_minor": 0
}
