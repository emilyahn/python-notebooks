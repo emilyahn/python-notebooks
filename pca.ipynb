{
 "cells": [
  {
   "cell_type": "markdown",
   "metadata": {},
   "source": [
    "# Dimensionality Reduction with PCA\n",
    "\n",
    "## 1. MNIST Example\n",
    "\n",
    "Let's project MNIST digits onto two dimensions using PCA and visualize the results."
   ]
  },
  {
   "cell_type": "code",
   "execution_count": null,
   "metadata": {
    "collapsed": false
   },
   "outputs": [],
   "source": [
    "# setup:\n",
    "import numpy as np\n",
    "import urllib2\n",
    "import matplotlib.pyplot as plt\n",
    "%matplotlib inline\n",
    "\n",
    "def load(url):\n",
    "    \"\"\"read a CSV from the web, return data and labels\"\"\"\n",
    "    response = urllib2.urlopen(url)\n",
    "    Xy = np.loadtxt(response, delimiter=',')\n",
    "    y = Xy[:, -1]\n",
    "    X = Xy[:, :-1]\n",
    "    return X, y\n",
    "\n",
    "trainX, trainy = load('http://cs.wellesley.edu/~sravana/ml/ps1/data/mnist1100/training.txt')\n",
    "print 'Loaded training data', trainX.shape\n",
    "\n",
    "# center the data \n",
    "trainXmean = np.mean(trainX, axis=0)\n",
    "trainX -= trainXmean"
   ]
  },
  {
   "cell_type": "code",
   "execution_count": null,
   "metadata": {
    "collapsed": false
   },
   "outputs": [],
   "source": [
    "# run PCA\n",
    "from sklearn.decomposition import PCA\n",
    "dimreduce = PCA(n_components=2)\n",
    "reducedTrainX = dimreduce.fit_transform(trainX)  # produces n by 2 matrix, where n = num of data points\n",
    "print 'Projected data onto 2 dimensions'\n",
    "\n",
    "# plot every 50th digit\n",
    "reducedTrainX_every50 = reducedTrainX[0::50, :]\n",
    "plt.figure(figsize=(15, 15))\n",
    "plt.scatter(reducedTrainX_every50[:, 0], reducedTrainX_every50[:, 1])\n",
    "for i in range(0, reducedTrainX.shape[0], 50):  \n",
    "    plt.annotate(str(int(digity[i])), (reducedTrainX[i, 0], reducedTrainX[i, 1]), size=20)\n",
    "plt.show()"
   ]
  },
  {
   "cell_type": "markdown",
   "metadata": {},
   "source": [
    "### Classification on the reduced space\n",
    "\n",
    "How does a kNN classifier perform on this reduced representation?"
   ]
  },
  {
   "cell_type": "code",
   "execution_count": null,
   "metadata": {
    "collapsed": false
   },
   "outputs": [],
   "source": [
    "from sklearn.neighbors import KNeighborsClassifier\n",
    "knnmodel = KNeighborsClassifier(n_neighbors=3)\n",
    "\n",
    "testX, testy = load('http://cs.wellesley.edu/~sravana/ml/ps1/data/mnist1100/testing.txt')\n",
    "print 'Loaded test data', testX.shape\n",
    "\n",
    "# center the data using the training mean\n",
    "testX -= trainXmean\n",
    "\n",
    "# baseline: kNN with no dimensionality reduction\n",
    "knnmodel.fit(trainX, trainy)\n",
    "print 'Baseline accuracy:', knnmodel.score(testX, testy)"
   ]
  },
  {
   "cell_type": "code",
   "execution_count": null,
   "metadata": {
    "collapsed": false
   },
   "outputs": [],
   "source": [
    "# project test data on new space\n",
    "reducedTestX = dimreduce.transform(testX)\n",
    "\n",
    "# kNN with 2-d dimensionality reduction\n",
    "knnmodel.fit(reducedTrainX, trainy)\n",
    "print 'Accuracy for 2-d PCA:', knnmodel.score(reducedTestX, testy)"
   ]
  },
  {
   "cell_type": "markdown",
   "metadata": {},
   "source": [
    "Okay, so 2-d wasn't great, but we're likely throwing away too much information. (2-d is great for visualizations, though.)\n",
    "\n",
    "Let's try 100 dimensions. This is more than 2, but way less than the original 784."
   ]
  },
  {
   "cell_type": "code",
   "execution_count": null,
   "metadata": {
    "collapsed": false
   },
   "outputs": [],
   "source": [
    "dimreduce100 = PCA(n_components=100)\n",
    "reduced100TrainX = dimreduce100.fit_transform(trainX)  # produces n by 100 matrix, where n = num of data points\n",
    "reduced100TestX = dimreduce100.transform(testX)\n",
    "print 'Projected data onto 100 dimensions'\n",
    "\n",
    "# kNN with 100-d dimensionality reduction\n",
    "knnmodel.fit(reduced100TrainX, trainy)\n",
    "print 'Accuracy for 100-d PCA:', knnmodel.score(reduced100TestX, testy)"
   ]
  },
  {
   "cell_type": "markdown",
   "metadata": {},
   "source": [
    "This performs better than the baseline. Success! "
   ]
  }
 ],
 "metadata": {
  "kernelspec": {
   "display_name": "Python 2",
   "language": "python",
   "name": "python2"
  },
  "language_info": {
   "codemirror_mode": {
    "name": "ipython",
    "version": 2
   },
   "file_extension": ".py",
   "mimetype": "text/x-python",
   "name": "python",
   "nbconvert_exporter": "python",
   "pygments_lexer": "ipython2",
   "version": "2.7.10"
  }
 },
 "nbformat": 4,
 "nbformat_minor": 0
}
